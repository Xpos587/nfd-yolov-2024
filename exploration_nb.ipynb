{
 "cells": [
  {
   "cell_type": "code",
   "execution_count": 11,
   "metadata": {},
   "outputs": [],
   "source": [
    "# Проверка версии Python, версия должна быть 3.10.X\n",
    "%pip install -q --upgrade pip\n",
    "!python3 --version"
   ]
  },
  {
   "cell_type": "code",
   "execution_count": 2,
   "metadata": {},
   "outputs": [],
   "source": [
    "%pip install -q super_gradients pycocotools ultralytics\n",
    "%pip install -q --upgrade pyopenssl"
   ]
  },
  {
   "cell_type": "code",
   "execution_count": null,
   "metadata": {},
   "outputs": [],
   "source": [
    "# Скачивание архива\n",
    "!curl -L -o train_dataset.zip https://lodmedia.hb.bizmrg.com/case_files/1144725/train_dataset_minpromtorg_train_dataset.zip\n",
    "\n",
    "# Распаковка архива с использованием пароля\n",
    "!unzip -P cifrovoy_proryv_2024_mpt_bpla train_dataset.zip -d train_dataset"
   ]
  },
  {
   "cell_type": "code",
   "execution_count": null,
   "metadata": {},
   "outputs": [],
   "source": [
    "# Импорт необходимых библиотек и функций\n",
    "import os\n",
    "\n",
    "from src.data_loader import load_dataset\n",
    "from src.model import evaluate_model, load_model, save_model, train_model\n",
    "\n",
    "# Убедитесь, что структура директорий корректна\n",
    "os.makedirs(\"models\", exist_ok=True)\n",
    "\n",
    "# Путь к датасету\n",
    "data_dir = \"data/public\"\n",
    "\n",
    "# Загрузка датасета\n",
    "train_loader, val_loader, test_loader = load_dataset(\n",
    "    data_dir=data_dir, batch_size=16, img_size=640\n",
    ")"
   ]
  },
  {
   "cell_type": "code",
   "execution_count": null,
   "metadata": {},
   "outputs": [],
   "source": [
    "# Загрузка предобученной модели\n",
    "model = load_model(num_classes=2, pretrained=True)"
   ]
  },
  {
   "cell_type": "code",
   "execution_count": 3,
   "metadata": {},
   "outputs": [],
   "source": [
    "# Обучение модели\n",
    "trained_model = train_model(\n",
    "    train_loader=train_loader,\n",
    "    val_loader=val_loader,\n",
    "    num_classes=2,\n",
    "    epochs=100,\n",
    "    lr=0.001,\n",
    "    experiment_name=\"aircraft_detection\",\n",
    "    ckpt_root_dir=\"models\"\n",
    ")"
   ]
  },
  {
   "cell_type": "code",
   "execution_count": null,
   "metadata": {},
   "outputs": [],
   "source": [
    "# Сохранение обученной модели\n",
    "save_model(trained_model, \"models/trained_aircraft_detection_model.pth\")"
   ]
  },
  {
   "cell_type": "code",
   "execution_count": null,
   "metadata": {},
   "outputs": [],
   "source": [
    "# Оценка модели на тестовом наборе данных\n",
    "mAP = evaluate_model(trained_model, test_loader)\n",
    "print(f\"mAP@0.50: {mAP:.4f}\")"
   ]
  }
 ],
 "metadata": {
  "kernelspec": {
   "display_name": "Python 3 (ipykernel)",
   "language": "python",
   "name": "python3"
  }
 },
 "nbformat": 4,
 "nbformat_minor": 2
}
