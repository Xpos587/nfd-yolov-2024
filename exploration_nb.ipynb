{
 "cells": [
  {
   "cell_type": "code",
   "execution_count": 1,
   "metadata": {},
   "outputs": [],
   "source": [
    "from src.data_loader import load_dataset\n",
    "from src.eval import evaluate_model\n",
    "from src.model import load_model, save_model, train_model\n",
    "\n",
    "# Путь к датасету\n",
    "data_dir = \"./data/public\"\n",
    "\n",
    "# Загрузка датасета\n",
    "train_loader, val_loader, test_loader = load_dataset(\n",
    "    data_dir, batch_size=16, img_size=640\n",
    ")\n",
    "\n",
    "# Загрузка предобученной модели\n",
    "model = load_model(num_classes=2, pretrained=True)\n",
    "\n",
    "# Обучение модели\n",
    "trained_model = train_model(train_loader, val_loader, num_classes=2, epochs=100, lr=0.001)\n",
    "\n",
    "# Сохранение обученной модели\n",
    "save_model(trained_model, \"models/trained_aircraft_detection_model.pth\")\n",
    "\n",
    "# Использование функции оценки\n",
    "mAP = evaluate_model(trained_model, test_loader)\n",
    "print(f\"mAP@0.50: {mAP:.4f}\")"
   ]
  }
 ],
 "metadata": {
  "kernelspec": {
   "display_name": "Python 3",
   "language": "python",
   "name": "python3"
  },
  "language_info": {
   "codemirror_mode": {
    "name": "ipython",
    "version": 3
   },
   "file_extension": ".py",
   "mimetype": "text/x-python",
   "name": "python",
   "nbconvert_exporter": "python",
   "pygments_lexer": "ipython3",
   "version": "3.10.15"
  }
 },
 "nbformat": 4,
 "nbformat_minor": 2
}
