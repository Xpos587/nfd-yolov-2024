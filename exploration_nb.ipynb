{
 "cells": [
  {
   "cell_type": "code",
   "execution_count": 11,
   "metadata": {},
   "outputs": [
    {
     "name": "stdout",
     "output_type": "stream",
     "text": [
      "\u001b[33mWARNING: Error parsing dependencies of distro-info: Invalid version: '1.1build1'\u001b[0m\u001b[33m\n",
      "\u001b[0m\u001b[33mWARNING: Error parsing dependencies of python-debian: Invalid version: '0.1.43ubuntu1'\u001b[0m\u001b[33m\n",
      "\u001b[0mNote: you may need to restart the kernel to use updated packages.\n",
      "Python 3.10.12\n"
     ]
    }
   ],
   "source": [
    "# Проверка версии Python, версия должна быть 3.10.X\n",
    "%pip install -q --upgrade pip\n",
    "!python --version"
   ]
  },
  {
   "cell_type": "code",
   "execution_count": 2,
   "metadata": {},
   "outputs": [
    {
     "name": "stdout",
     "output_type": "stream",
     "text": [
      "\u001b[33mWARNING: Error parsing dependencies of distro-info: Invalid version: '1.1build1'\u001b[0m\u001b[33m\n",
      "\u001b[0m\u001b[33mWARNING: Error parsing dependencies of python-debian: Invalid version: '0.1.43ubuntu1'\u001b[0m\u001b[33m\n",
      "\u001b[0mNote: you may need to restart the kernel to use updated packages.\n"
     ]
    }
   ],
   "source": [
    "%pip install -q super_gradients pycocotools\n",
    "%pip install --upgrade pyopenssl"
   ]
  },
  {
   "cell_type": "code",
   "execution_count": null,
   "metadata": {},
   "outputs": [],
   "source": [
    "# Скачивание архива\n",
    "!curl -L -o train_dataset.zip https://lodmedia.hb.bizmrg.com/case_files/1144725/train_dataset_minpromtorg_train_dataset.zip\n",
    "\n",
    "# Распаковка архива с использованием пароля\n",
    "!unzip -P cifrovoy_proryv_2024_mpt_bpla train_dataset.zip -d train_dataset"
   ]
  },
  {
   "cell_type": "code",
   "execution_count": 3,
   "metadata": {},
   "outputs": [
    {
     "ename": "ModuleNotFoundError",
     "evalue": "No module named 'src'",
     "output_type": "error",
     "traceback": [
      "\u001b[0;31m---------------------------------------------------------------------------\u001b[0m",
      "\u001b[0;31mModuleNotFoundError\u001b[0m                       Traceback (most recent call last)",
      "Cell \u001b[0;32mIn[3], line 1\u001b[0m\n\u001b[0;32m----> 1\u001b[0m \u001b[38;5;28;01mfrom\u001b[39;00m \u001b[38;5;21;01msrc\u001b[39;00m\u001b[38;5;21;01m.\u001b[39;00m\u001b[38;5;21;01mdata_loader\u001b[39;00m \u001b[38;5;28;01mimport\u001b[39;00m load_dataset\n\u001b[1;32m      2\u001b[0m \u001b[38;5;28;01mfrom\u001b[39;00m \u001b[38;5;21;01msrc\u001b[39;00m\u001b[38;5;21;01m.\u001b[39;00m\u001b[38;5;21;01mmodel\u001b[39;00m \u001b[38;5;28;01mimport\u001b[39;00m evaluate_model, load_model, save_model, train_model\n\u001b[1;32m      4\u001b[0m \u001b[38;5;66;03m# Путь к датасету\u001b[39;00m\n",
      "\u001b[0;31mModuleNotFoundError\u001b[0m: No module named 'src'"
     ]
    }
   ],
   "source": [
    "from src.data_loader import load_dataset\n",
    "from src.model import evaluate_model, load_model, save_model, train_model\n",
    "\n",
    "# Путь к датасету\n",
    "data_dir = \"./data/public\"\n",
    "\n",
    "# Загрузка датасета\n",
    "train_loader, val_loader, test_loader = load_dataset(\n",
    "    data_dir, batch_size=16, img_size=640\n",
    ")\n",
    "\n",
    "# Загрузка предобученной модели\n",
    "model = load_model(num_classes=2, pretrained=True)\n",
    "\n",
    "# Обучение модели\n",
    "trained_model = train_model(train_loader, val_loader, num_classes=2, epochs=100, lr=0.001)\n",
    "\n",
    "# Сохранение обученной модели\n",
    "save_model(trained_model, \"models/trained_aircraft_detection_model.pth\")\n",
    "\n",
    "# Использование функции оценки\n",
    "mAP = evaluate_model(trained_model, test_loader)\n",
    "print(f\"mAP@0.50: {mAP:.4f}\")"
   ]
  }
 ],
 "metadata": {
  "kernelspec": {
   "display_name": "Python 3 (ipykernel)",
   "language": "python",
   "name": "python3"
  },
  "language_info": {
   "codemirror_mode": {
    "name": "ipython",
    "version": 3
   },
   "file_extension": ".py",
   "mimetype": "text/x-python",
   "name": "python",
   "nbconvert_exporter": "python",
   "pygments_lexer": "ipython3",
   "version": "3.10.12"
  }
 },
 "nbformat": 4,
 "nbformat_minor": 2
}
