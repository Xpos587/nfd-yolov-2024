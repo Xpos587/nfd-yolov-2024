{
 "cells": [
  {
   "cell_type": "code",
   "execution_count": null,
   "metadata": {},
   "outputs": [],
   "source": [
    "from utils.video_to_frames import process_video_directory\n",
    "\n",
    "# Пути к директориям с видео и для сохранения кадров\n",
    "input_directory = \"./data/videos\"\n",
    "output_directory = \"./data/frames\"\n",
    "\n",
    "# Обработка видео и извлечение кадров\n",
    "process_video_directory(\n",
    "    input_directory,\n",
    "    output_directory,\n",
    "    frame_interval=2,\n",
    "    max_frames=1000,\n",
    "    num_workers=4,\n",
    ")"
   ]
  }
 ],
 "metadata": {
  "language_info": {
   "name": "python"
  }
 },
 "nbformat": 4,
 "nbformat_minor": 2
}
